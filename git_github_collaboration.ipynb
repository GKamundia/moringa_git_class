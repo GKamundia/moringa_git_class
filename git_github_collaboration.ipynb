{
 "cells": [
  {
   "cell_type": "markdown",
   "id": "556b019f",
   "metadata": {},
   "source": [
    "# **Collaborative Git and GitHub Workflow for Two Users**"
   ]
  },
  {
   "cell_type": "markdown",
   "id": "ca7467d0",
   "metadata": {},
   "source": [
    "## **Scenario**\n",
    "Two developers, **Alice** and **Bob**, are working on the same project in a GitHub repository.\n",
    "\n",
    "They will:\n",
    "1. Clone the repository\n",
    "2. Create and work on separate branches\n",
    "3. Push their changes to GitHub\n",
    "4. Merge branches into the `main` branch\n",
    "5. Handle merge conflicts\n"
   ]
  },
  {
   "cell_type": "markdown",
   "id": "b546e894",
   "metadata": {},
   "source": [
    "## **Step 1: Initial Setup**\n",
    "**Alice creates the repository** and adds Bob as a collaborator."
   ]
  },
  {
   "cell_type": "markdown",
   "id": "b7206ae5",
   "metadata": {},
   "source": [
    "### **Alice’s Steps**"
   ]
  },
  {
   "cell_type": "code",
   "execution_count": null,
   "id": "45e27b2c",
   "metadata": {},
   "outputs": [],
   "source": [
    "# Clone the repository\n",
    "git clone https://github.com/alice/collab-project.git\n",
    "cd collab-project"
   ]
  },
  {
   "cell_type": "markdown",
   "id": "7e01e395",
   "metadata": {},
   "source": [
    "### **Bob’s Steps**"
   ]
  },
  {
   "cell_type": "code",
   "execution_count": null,
   "id": "0129cad1",
   "metadata": {},
   "outputs": [],
   "source": [
    "# Clone the repository\n",
    "git clone https://github.com/alice/collab-project.git\n",
    "cd collab-project"
   ]
  },
  {
   "cell_type": "markdown",
   "id": "4d7f08e0",
   "metadata": {},
   "source": [
    "## **Step 3: Creating and Using Branches**\n",
    "\n",
    "### **Alice’s Steps (Working on `alice-feature`)**"
   ]
  },
  {
   "cell_type": "code",
   "execution_count": null,
   "id": "e6852291",
   "metadata": {},
   "outputs": [],
   "source": [
    "# Create and switch to a new branch\n",
    "git checkout -b alice-feature"
   ]
  },
  {
   "cell_type": "code",
   "execution_count": null,
   "id": "0671803c",
   "metadata": {},
   "outputs": [],
   "source": [
    "# Make changes and commit\n",
    "git add README.md\n",
    "git commit -m \"Updated README with project description\""
   ]
  },
  {
   "cell_type": "code",
   "execution_count": null,
   "id": "a36011be",
   "metadata": {},
   "outputs": [],
   "source": [
    "# Push the branch to GitHub\n",
    "git push origin alice-feature"
   ]
  },
  {
   "cell_type": "markdown",
   "id": "237183fc",
   "metadata": {},
   "source": [
    "### **Bob’s Steps (Working on `bob-feature`)**"
   ]
  },
  {
   "cell_type": "code",
   "execution_count": null,
   "id": "b0de81ac",
   "metadata": {},
   "outputs": [],
   "source": [
    "# Create and switch to a new branch\n",
    "git checkout -b bob-feature"
   ]
  },
  {
   "cell_type": "code",
   "execution_count": null,
   "id": "603291f8",
   "metadata": {},
   "outputs": [],
   "source": [
    "# Make changes and commit\n",
    "git add index.html\n",
    "git commit -m \"Added index.html with homepage content\""
   ]
  },
  {
   "cell_type": "code",
   "execution_count": null,
   "id": "99a4f793",
   "metadata": {},
   "outputs": [],
   "source": [
    "# Push the branch to GitHub\n",
    "git push origin bob-feature"
   ]
  },
  {
   "cell_type": "markdown",
   "id": "859950d3",
   "metadata": {},
   "source": [
    "## **Step 4: Merging Branches into `main`**"
   ]
  },
  {
   "cell_type": "code",
   "execution_count": null,
   "id": "03c4abfe",
   "metadata": {},
   "outputs": [],
   "source": [
    "# Switch to main and pull latest changes\n",
    "git checkout main\n",
    "git pull origin main"
   ]
  },
  {
   "cell_type": "code",
   "execution_count": null,
   "id": "8560e686",
   "metadata": {},
   "outputs": [],
   "source": [
    "# Merge alice-feature\n",
    "git merge alice-feature\n",
    "git push origin main"
   ]
  },
  {
   "cell_type": "markdown",
   "id": "9af08faf",
   "metadata": {},
   "source": [
    "## **Step 5: Handling Merge Conflicts**"
   ]
  },
  {
   "cell_type": "code",
   "execution_count": null,
   "id": "4f877122",
   "metadata": {},
   "outputs": [],
   "source": [
    "# Bob pulls the latest changes\n",
    "git checkout main\n",
    "git pull origin main"
   ]
  },
  {
   "cell_type": "code",
   "execution_count": null,
   "id": "0a4ccce0",
   "metadata": {},
   "outputs": [],
   "source": [
    "# Bob merges his branch\n",
    "git merge bob-feature"
   ]
  },
  {
   "cell_type": "markdown",
   "id": "a4b39435",
   "metadata": {},
   "source": [
    "🚨 **If there's a conflict, resolve it manually:**\n",
    "\n",
    "1. Open the conflicting file (e.g., `README.md`).\n",
    "2. Edit the file to remove conflict markers (`<<<<<<<`, `=======`, `>>>>>>>`).\n",
    "3. Stage the resolved file:\n",
    "\n",
    "```sh\n",
    "git add README.md\n",
    "```\n",
    "\n",
    "4. Commit the resolution:\n",
    "\n",
    "```sh\n",
    "git commit -m \"Resolved merge conflict in README.md\"\n",
    "```\n",
    "\n",
    "5. Push to GitHub:\n",
    "\n",
    "```sh\n",
    "git push origin main\n",
    "```"
   ]
  },
  {
   "cell_type": "markdown",
   "id": "89abfc1e",
   "metadata": {},
   "source": [
    "## **Step 6: Deleting Merged Branches**"
   ]
  },
  {
   "cell_type": "code",
   "execution_count": null,
   "id": "75ed9dd3",
   "metadata": {},
   "outputs": [],
   "source": [
    "# Delete locally\n",
    "git branch -d alice-feature\n",
    "git branch -d bob-feature"
   ]
  },
  {
   "cell_type": "code",
   "execution_count": null,
   "id": "43470d90",
   "metadata": {},
   "outputs": [],
   "source": [
    "# Delete on GitHub\n",
    "git push origin --delete alice-feature\n",
    "git push origin --delete bob-feature"
   ]
  },
  {
   "cell_type": "markdown",
   "id": "179aa2ce",
   "metadata": {},
   "source": [
    "## **Summary of Key Commands**\n",
    "\n",
    "| Action | Command |\n",
    "|---------|------------|\n",
    "| Clone repository | `git clone <repo-url>` |\n",
    "| Create branch | `git checkout -b branch-name` |\n",
    "| Switch branch | `git checkout branch-name` |\n",
    "| Stage changes | `git add <file>` |\n",
    "| Commit changes | `git commit -m \"message\"` |\n",
    "| Push branch | `git push origin branch-name` |\n",
    "| Merge branch | `git merge branch-name` |\n",
    "| Delete branch (local) | `git branch -d branch-name` |\n",
    "| Delete branch (remote) | `git push origin --delete branch-name` |\n"
   ]
  },
  {
   "cell_type": "markdown",
   "id": "9f6f86be",
   "metadata": {},
   "source": [
    "### **Final Notes**\n",
    "- Always **pull latest changes** before working (`git pull origin main`).\n",
    "- Use **branches** for separate features.\n",
    "- **Resolve conflicts** carefully by choosing the correct changes.\n",
    "- Communicate with your team to avoid unnecessary conflicts.\n"
   ]
  }
 ],
 "metadata": {},
 "nbformat": 4,
 "nbformat_minor": 5
}